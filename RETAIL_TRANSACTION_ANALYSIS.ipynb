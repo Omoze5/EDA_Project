{
 "cells": [
  {
   "cell_type": "code",
   "execution_count": 1,
   "id": "acfce6ee",
   "metadata": {},
   "outputs": [],
   "source": [
    "import pandas as pd\n",
    "import numpy as np\n",
    "import matplotlib.pyplot as plt\n",
    "import seaborn as sns"
   ]
  },
  {
   "cell_type": "code",
   "execution_count": 70,
   "id": "85b04669",
   "metadata": {},
   "outputs": [],
   "source": [
    "import warnings\n",
    "\n",
    "warnings.filterwarnings('ignore')"
   ]
  },
  {
   "cell_type": "code",
   "execution_count": 5,
   "id": "38be25df",
   "metadata": {},
   "outputs": [],
   "source": [
    "df = pd.read_csv(\"Retail_Transactions_Dataset.csv\", parse_dates=True)"
   ]
  },
  {
   "cell_type": "code",
   "execution_count": 72,
   "id": "53e8bd3f",
   "metadata": {},
   "outputs": [
    {
     "data": {
      "text/html": [
       "<div>\n",
       "<style scoped>\n",
       "    .dataframe tbody tr th:only-of-type {\n",
       "        vertical-align: middle;\n",
       "    }\n",
       "\n",
       "    .dataframe tbody tr th {\n",
       "        vertical-align: top;\n",
       "    }\n",
       "\n",
       "    .dataframe thead th {\n",
       "        text-align: right;\n",
       "    }\n",
       "</style>\n",
       "<table border=\"1\" class=\"dataframe\">\n",
       "  <thead>\n",
       "    <tr style=\"text-align: right;\">\n",
       "      <th></th>\n",
       "      <th>Transaction_ID</th>\n",
       "      <th>Date</th>\n",
       "      <th>Customer_Name</th>\n",
       "      <th>Product</th>\n",
       "      <th>Total_Items</th>\n",
       "      <th>Total_Cost</th>\n",
       "      <th>Payment_Method</th>\n",
       "      <th>City</th>\n",
       "      <th>Store_Type</th>\n",
       "      <th>Discount_Applied</th>\n",
       "      <th>Customer_Category</th>\n",
       "      <th>Season</th>\n",
       "      <th>Promotion</th>\n",
       "    </tr>\n",
       "  </thead>\n",
       "  <tbody>\n",
       "    <tr>\n",
       "      <th>0</th>\n",
       "      <td>1000000000</td>\n",
       "      <td>2020-12-21 19:42:52</td>\n",
       "      <td>Cheyenne Newman</td>\n",
       "      <td>['Hair Gel']</td>\n",
       "      <td>6</td>\n",
       "      <td>12.77</td>\n",
       "      <td>Debit Card</td>\n",
       "      <td>New York</td>\n",
       "      <td>Convenience Store</td>\n",
       "      <td>True</td>\n",
       "      <td>Student</td>\n",
       "      <td>Winter</td>\n",
       "      <td>NaN</td>\n",
       "    </tr>\n",
       "    <tr>\n",
       "      <th>1</th>\n",
       "      <td>1000000001</td>\n",
       "      <td>2020-07-06 07:45:16</td>\n",
       "      <td>Emily Fitzgerald</td>\n",
       "      <td>['Tuna', 'Bread', 'Tissues', 'Trash Bags']</td>\n",
       "      <td>5</td>\n",
       "      <td>13.88</td>\n",
       "      <td>Debit Card</td>\n",
       "      <td>Houston</td>\n",
       "      <td>Supermarket</td>\n",
       "      <td>False</td>\n",
       "      <td>Professional</td>\n",
       "      <td>Fall</td>\n",
       "      <td>BOGO (Buy One Get One)</td>\n",
       "    </tr>\n",
       "    <tr>\n",
       "      <th>2</th>\n",
       "      <td>1000000002</td>\n",
       "      <td>2021-10-02 06:28:44</td>\n",
       "      <td>Michael Webb</td>\n",
       "      <td>['Jam', 'Soap', 'Ketchup']</td>\n",
       "      <td>7</td>\n",
       "      <td>47.02</td>\n",
       "      <td>Debit Card</td>\n",
       "      <td>Miami</td>\n",
       "      <td>Convenience Store</td>\n",
       "      <td>False</td>\n",
       "      <td>Young Adult</td>\n",
       "      <td>Winter</td>\n",
       "      <td>NaN</td>\n",
       "    </tr>\n",
       "    <tr>\n",
       "      <th>3</th>\n",
       "      <td>1000000003</td>\n",
       "      <td>2022-01-10 05:39:02</td>\n",
       "      <td>Kimberly Lin</td>\n",
       "      <td>['BBQ Sauce']</td>\n",
       "      <td>9</td>\n",
       "      <td>83.86</td>\n",
       "      <td>Mobile Payment</td>\n",
       "      <td>Seattle</td>\n",
       "      <td>Warehouse Club</td>\n",
       "      <td>True</td>\n",
       "      <td>Senior Citizen</td>\n",
       "      <td>Summer</td>\n",
       "      <td>Discount on Selected Items</td>\n",
       "    </tr>\n",
       "    <tr>\n",
       "      <th>4</th>\n",
       "      <td>1000000004</td>\n",
       "      <td>2021-10-13 07:28:47</td>\n",
       "      <td>Cathy Hernandez</td>\n",
       "      <td>['Hand Sanitizer', 'Bread', 'Extension Cords',...</td>\n",
       "      <td>4</td>\n",
       "      <td>30.55</td>\n",
       "      <td>Debit Card</td>\n",
       "      <td>Houston</td>\n",
       "      <td>Warehouse Club</td>\n",
       "      <td>False</td>\n",
       "      <td>Senior Citizen</td>\n",
       "      <td>Spring</td>\n",
       "      <td>NaN</td>\n",
       "    </tr>\n",
       "  </tbody>\n",
       "</table>\n",
       "</div>"
      ],
      "text/plain": [
       "   Transaction_ID                 Date     Customer_Name  \\\n",
       "0      1000000000  2020-12-21 19:42:52   Cheyenne Newman   \n",
       "1      1000000001  2020-07-06 07:45:16  Emily Fitzgerald   \n",
       "2      1000000002  2021-10-02 06:28:44      Michael Webb   \n",
       "3      1000000003  2022-01-10 05:39:02      Kimberly Lin   \n",
       "4      1000000004  2021-10-13 07:28:47   Cathy Hernandez   \n",
       "\n",
       "                                             Product  Total_Items  Total_Cost  \\\n",
       "0                                       ['Hair Gel']            6       12.77   \n",
       "1         ['Tuna', 'Bread', 'Tissues', 'Trash Bags']            5       13.88   \n",
       "2                         ['Jam', 'Soap', 'Ketchup']            7       47.02   \n",
       "3                                      ['BBQ Sauce']            9       83.86   \n",
       "4  ['Hand Sanitizer', 'Bread', 'Extension Cords',...            4       30.55   \n",
       "\n",
       "   Payment_Method      City         Store_Type  Discount_Applied  \\\n",
       "0      Debit Card  New York  Convenience Store              True   \n",
       "1      Debit Card   Houston        Supermarket             False   \n",
       "2      Debit Card     Miami  Convenience Store             False   \n",
       "3  Mobile Payment   Seattle     Warehouse Club              True   \n",
       "4      Debit Card   Houston     Warehouse Club             False   \n",
       "\n",
       "  Customer_Category  Season                   Promotion  \n",
       "0           Student  Winter                         NaN  \n",
       "1      Professional    Fall      BOGO (Buy One Get One)  \n",
       "2       Young Adult  Winter                         NaN  \n",
       "3    Senior Citizen  Summer  Discount on Selected Items  \n",
       "4    Senior Citizen  Spring                         NaN  "
      ]
     },
     "execution_count": 72,
     "metadata": {},
     "output_type": "execute_result"
    }
   ],
   "source": [
    "df.head()"
   ]
  },
  {
   "cell_type": "code",
   "execution_count": 73,
   "id": "b83800b0",
   "metadata": {},
   "outputs": [
    {
     "name": "stdout",
     "output_type": "stream",
     "text": [
      "<class 'pandas.core.frame.DataFrame'>\n",
      "RangeIndex: 30000 entries, 0 to 29999\n",
      "Data columns (total 13 columns):\n",
      " #   Column             Non-Null Count  Dtype  \n",
      "---  ------             --------------  -----  \n",
      " 0   Transaction_ID     30000 non-null  int64  \n",
      " 1   Date               30000 non-null  object \n",
      " 2   Customer_Name      30000 non-null  object \n",
      " 3   Product            30000 non-null  object \n",
      " 4   Total_Items        30000 non-null  int64  \n",
      " 5   Total_Cost         30000 non-null  float64\n",
      " 6   Payment_Method     30000 non-null  object \n",
      " 7   City               30000 non-null  object \n",
      " 8   Store_Type         30000 non-null  object \n",
      " 9   Discount_Applied   30000 non-null  bool   \n",
      " 10  Customer_Category  30000 non-null  object \n",
      " 11  Season             30000 non-null  object \n",
      " 12  Promotion          20009 non-null  object \n",
      "dtypes: bool(1), float64(1), int64(2), object(9)\n",
      "memory usage: 2.8+ MB\n"
     ]
    }
   ],
   "source": [
    "df.info()"
   ]
  },
  {
   "cell_type": "code",
   "execution_count": 74,
   "id": "abc12983",
   "metadata": {},
   "outputs": [],
   "source": [
    "# Replacing the NaN with no promotion, because these are customers that were not giving discount\n",
    "df['Promotion'] = df['Promotion'].replace(np.nan, 'No Promotion')"
   ]
  },
  {
   "cell_type": "code",
   "execution_count": 75,
   "id": "35f7c9d9",
   "metadata": {},
   "outputs": [],
   "source": [
    "# Separated each products without them being in a list\n",
    "import re\n",
    "df['Product'] = df['Product'].apply(lambda x: ', '.join(eval(x)) if isinstance(x, str) else '')\n"
   ]
  },
  {
   "cell_type": "code",
   "execution_count": 76,
   "id": "4e84169d",
   "metadata": {},
   "outputs": [
    {
     "data": {
      "text/html": [
       "<div>\n",
       "<style scoped>\n",
       "    .dataframe tbody tr th:only-of-type {\n",
       "        vertical-align: middle;\n",
       "    }\n",
       "\n",
       "    .dataframe tbody tr th {\n",
       "        vertical-align: top;\n",
       "    }\n",
       "\n",
       "    .dataframe thead th {\n",
       "        text-align: right;\n",
       "    }\n",
       "</style>\n",
       "<table border=\"1\" class=\"dataframe\">\n",
       "  <thead>\n",
       "    <tr style=\"text-align: right;\">\n",
       "      <th></th>\n",
       "      <th>Transaction_ID</th>\n",
       "      <th>Date</th>\n",
       "      <th>Customer_Name</th>\n",
       "      <th>Product</th>\n",
       "      <th>Total_Items</th>\n",
       "      <th>Total_Cost</th>\n",
       "      <th>Payment_Method</th>\n",
       "      <th>City</th>\n",
       "      <th>Store_Type</th>\n",
       "      <th>Discount_Applied</th>\n",
       "      <th>Customer_Category</th>\n",
       "      <th>Season</th>\n",
       "      <th>Promotion</th>\n",
       "    </tr>\n",
       "  </thead>\n",
       "  <tbody>\n",
       "    <tr>\n",
       "      <th>0</th>\n",
       "      <td>1000000000</td>\n",
       "      <td>2020-12-21 19:42:52</td>\n",
       "      <td>Cheyenne Newman</td>\n",
       "      <td>Hair Gel</td>\n",
       "      <td>6</td>\n",
       "      <td>12.77</td>\n",
       "      <td>Debit Card</td>\n",
       "      <td>New York</td>\n",
       "      <td>Convenience Store</td>\n",
       "      <td>True</td>\n",
       "      <td>Student</td>\n",
       "      <td>Winter</td>\n",
       "      <td>No Promotion</td>\n",
       "    </tr>\n",
       "    <tr>\n",
       "      <th>1</th>\n",
       "      <td>1000000001</td>\n",
       "      <td>2020-07-06 07:45:16</td>\n",
       "      <td>Emily Fitzgerald</td>\n",
       "      <td>Tuna, Bread, Tissues, Trash Bags</td>\n",
       "      <td>5</td>\n",
       "      <td>13.88</td>\n",
       "      <td>Debit Card</td>\n",
       "      <td>Houston</td>\n",
       "      <td>Supermarket</td>\n",
       "      <td>False</td>\n",
       "      <td>Professional</td>\n",
       "      <td>Fall</td>\n",
       "      <td>BOGO (Buy One Get One)</td>\n",
       "    </tr>\n",
       "    <tr>\n",
       "      <th>2</th>\n",
       "      <td>1000000002</td>\n",
       "      <td>2021-10-02 06:28:44</td>\n",
       "      <td>Michael Webb</td>\n",
       "      <td>Jam, Soap, Ketchup</td>\n",
       "      <td>7</td>\n",
       "      <td>47.02</td>\n",
       "      <td>Debit Card</td>\n",
       "      <td>Miami</td>\n",
       "      <td>Convenience Store</td>\n",
       "      <td>False</td>\n",
       "      <td>Young Adult</td>\n",
       "      <td>Winter</td>\n",
       "      <td>No Promotion</td>\n",
       "    </tr>\n",
       "    <tr>\n",
       "      <th>3</th>\n",
       "      <td>1000000003</td>\n",
       "      <td>2022-01-10 05:39:02</td>\n",
       "      <td>Kimberly Lin</td>\n",
       "      <td>BBQ Sauce</td>\n",
       "      <td>9</td>\n",
       "      <td>83.86</td>\n",
       "      <td>Mobile Payment</td>\n",
       "      <td>Seattle</td>\n",
       "      <td>Warehouse Club</td>\n",
       "      <td>True</td>\n",
       "      <td>Senior Citizen</td>\n",
       "      <td>Summer</td>\n",
       "      <td>Discount on Selected Items</td>\n",
       "    </tr>\n",
       "    <tr>\n",
       "      <th>4</th>\n",
       "      <td>1000000004</td>\n",
       "      <td>2021-10-13 07:28:47</td>\n",
       "      <td>Cathy Hernandez</td>\n",
       "      <td>Hand Sanitizer, Bread, Extension Cords, Ice Cr...</td>\n",
       "      <td>4</td>\n",
       "      <td>30.55</td>\n",
       "      <td>Debit Card</td>\n",
       "      <td>Houston</td>\n",
       "      <td>Warehouse Club</td>\n",
       "      <td>False</td>\n",
       "      <td>Senior Citizen</td>\n",
       "      <td>Spring</td>\n",
       "      <td>No Promotion</td>\n",
       "    </tr>\n",
       "  </tbody>\n",
       "</table>\n",
       "</div>"
      ],
      "text/plain": [
       "   Transaction_ID                 Date     Customer_Name  \\\n",
       "0      1000000000  2020-12-21 19:42:52   Cheyenne Newman   \n",
       "1      1000000001  2020-07-06 07:45:16  Emily Fitzgerald   \n",
       "2      1000000002  2021-10-02 06:28:44      Michael Webb   \n",
       "3      1000000003  2022-01-10 05:39:02      Kimberly Lin   \n",
       "4      1000000004  2021-10-13 07:28:47   Cathy Hernandez   \n",
       "\n",
       "                                             Product  Total_Items  Total_Cost  \\\n",
       "0                                           Hair Gel            6       12.77   \n",
       "1                   Tuna, Bread, Tissues, Trash Bags            5       13.88   \n",
       "2                                 Jam, Soap, Ketchup            7       47.02   \n",
       "3                                          BBQ Sauce            9       83.86   \n",
       "4  Hand Sanitizer, Bread, Extension Cords, Ice Cr...            4       30.55   \n",
       "\n",
       "   Payment_Method      City         Store_Type  Discount_Applied  \\\n",
       "0      Debit Card  New York  Convenience Store              True   \n",
       "1      Debit Card   Houston        Supermarket             False   \n",
       "2      Debit Card     Miami  Convenience Store             False   \n",
       "3  Mobile Payment   Seattle     Warehouse Club              True   \n",
       "4      Debit Card   Houston     Warehouse Club             False   \n",
       "\n",
       "  Customer_Category  Season                   Promotion  \n",
       "0           Student  Winter                No Promotion  \n",
       "1      Professional    Fall      BOGO (Buy One Get One)  \n",
       "2       Young Adult  Winter                No Promotion  \n",
       "3    Senior Citizen  Summer  Discount on Selected Items  \n",
       "4    Senior Citizen  Spring                No Promotion  "
      ]
     },
     "execution_count": 76,
     "metadata": {},
     "output_type": "execute_result"
    }
   ],
   "source": [
    "df.head()"
   ]
  },
  {
   "cell_type": "markdown",
   "id": "4e8aa380",
   "metadata": {},
   "source": [
    "## Who are the top customers in terms of total spending?"
   ]
  },
  {
   "cell_type": "code",
   "execution_count": 125,
   "id": "5f60c475",
   "metadata": {},
   "outputs": [],
   "source": [
    "top_customers= df.groupby('Customer_Category')['Total_Cost'].sum().reset_index().sort_values(by='Total_Cost', ascending=False)"
   ]
  },
  {
   "cell_type": "code",
   "execution_count": 133,
   "id": "853f5fa5",
   "metadata": {},
   "outputs": [
    {
     "data": {
      "image/png": "[encoded data removed]",
      "text/plain": [
       "<Figure size 640x480 with 1 Axes>"
      ]
     },
     "metadata": {},
     "output_type": "display_data"
    }
   ],
   "source": [
    "plt.pie(top_customers['Total_Cost'],labels =top_customers['Customer_Category'],autopct='%1.1f%%')\n",
    "\n",
    "plt.xticks(rotation=90)\n",
    "plt.show()"
   ]
  },
  {
   "cell_type": "markdown",
   "id": "bfcdac2a",
   "metadata": {},
   "source": [
    "This retail outlet has more of students as customer"
   ]
  },
  {
   "cell_type": "markdown",
   "id": "3ae99c88",
   "metadata": {},
   "source": [
    "## What is the distribution of sales across different stores and cities?\n"
   ]
  },
  {
   "cell_type": "code",
   "execution_count": 110,
   "id": "1d3c6184",
   "metadata": {},
   "outputs": [],
   "source": [
    "city_sales = df.groupby(['City','Store_Type'])['Total_Cost'].sum().reset_index()"
   ]
  },
  {
   "cell_type": "code",
   "execution_count": 140,
   "id": "d2306786",
   "metadata": {},
   "outputs": [
    {
     "data": {
      "text/plain": [
       "<Figure size 1600x1400 with 0 Axes>"
      ]
     },
     "metadata": {},
     "output_type": "display_data"
    },
    {
     "data": {
      "image/png": "[encoded data removed]",
      "text/plain": [
       "<Figure size 1380.88x600 with 1 Axes>"
      ]
     },
     "metadata": {},
     "output_type": "display_data"
    }
   ],
   "source": [
    "city_sales_sorted = city_sales.sort_values(by='Total_Cost', ascending=False)\n",
    "\n",
    "plt.figure(figsize=(16,14))\n",
    "\n",
    "sns.catplot(x='City',y='Total_Cost', data = city_sales_sorted, kind='bar', hue= 'Store_Type',height=6, aspect=2)\n",
    "plt.xticks(rotation = 90)\n",
    "plt.title(\"Overall Sales Across Store_type and Cities\")\n",
    "plt.ylabel(\"Total Sales\")\n",
    "plt.xlabel(\"City\") \n",
    "plt.show()"
   ]
  },
  {
   "cell_type": "markdown",
   "id": "85b03119",
   "metadata": {},
   "source": [
    "## Which products are the best-sellers?\n"
   ]
  },
  {
   "cell_type": "code",
   "execution_count": 197,
   "id": "eeb8fee5",
   "metadata": {},
   "outputs": [],
   "source": [
    "Best_Product = df.groupby('Product')['Total_Cost'].sum().sort_values(ascending=False).reset_index()"
   ]
  },
  {
   "cell_type": "code",
   "execution_count": 198,
   "id": "2c57577b",
   "metadata": {},
   "outputs": [
    {
     "data": {
      "text/html": [
       "<div>\n",
       "<style scoped>\n",
       "    .dataframe tbody tr th:only-of-type {\n",
       "        vertical-align: middle;\n",
       "    }\n",
       "\n",
       "    .dataframe tbody tr th {\n",
       "        vertical-align: top;\n",
       "    }\n",
       "\n",
       "    .dataframe thead th {\n",
       "        text-align: right;\n",
       "    }\n",
       "</style>\n",
       "<table border=\"1\" class=\"dataframe\">\n",
       "  <thead>\n",
       "    <tr style=\"text-align: right;\">\n",
       "      <th></th>\n",
       "      <th>Product</th>\n",
       "      <th>Total_Cost</th>\n",
       "    </tr>\n",
       "  </thead>\n",
       "  <tbody>\n",
       "    <tr>\n",
       "      <th>0</th>\n",
       "      <td>Toothpaste</td>\n",
       "      <td>6898.52</td>\n",
       "    </tr>\n",
       "    <tr>\n",
       "      <th>1</th>\n",
       "      <td>Milk</td>\n",
       "      <td>5139.51</td>\n",
       "    </tr>\n",
       "    <tr>\n",
       "      <th>2</th>\n",
       "      <td>Yogurt</td>\n",
       "      <td>4918.57</td>\n",
       "    </tr>\n",
       "    <tr>\n",
       "      <th>3</th>\n",
       "      <td>Tuna</td>\n",
       "      <td>4913.11</td>\n",
       "    </tr>\n",
       "    <tr>\n",
       "      <th>4</th>\n",
       "      <td>Peanut Butter</td>\n",
       "      <td>4624.01</td>\n",
       "    </tr>\n",
       "  </tbody>\n",
       "</table>\n",
       "</div>"
      ],
      "text/plain": [
       "         Product  Total_Cost\n",
       "0     Toothpaste     6898.52\n",
       "1           Milk     5139.51\n",
       "2         Yogurt     4918.57\n",
       "3           Tuna     4913.11\n",
       "4  Peanut Butter     4624.01"
      ]
     },
     "execution_count": 198,
     "metadata": {},
     "output_type": "execute_result"
    }
   ],
   "source": [
    "Best_Product.head()"
   ]
  },
  {
   "cell_type": "markdown",
   "id": "fd174df8",
   "metadata": {},
   "source": [
    "## Which products have the highest and lowest sales?\n"
   ]
  },
  {
   "cell_type": "code",
   "execution_count": 206,
   "id": "29833981",
   "metadata": {},
   "outputs": [
    {
     "name": "stdout",
     "output_type": "stream",
     "text": [
      "THE PRODUCT WITH THE HIGHEST SALES IS TOOTHPASTE\n"
     ]
    }
   ],
   "source": [
    "highest_selling_product= Best_Product['Product'].iloc[0].upper()\n",
    "print(f'THE PRODUCT WITH THE HIGHEST SALES IS {highest_selling_product}')\n",
    "                                             \n"
   ]
  },
  {
   "cell_type": "code",
   "execution_count": 208,
   "id": "0061753f",
   "metadata": {},
   "outputs": [
    {
     "name": "stdout",
     "output_type": "stream",
     "text": [
      "THE PRODUCT WITH THE LOWEST SALES IS OLIVE OIL, COFFEE, DIAPERS\n"
     ]
    }
   ],
   "source": [
    "min_cost_product_name = Best_Product.loc[Best_Product['Total_Cost'].idxmin(), 'Product'].upper()\n",
    "\n",
    "print(f'THE PRODUCT WITH THE LOWEST SALES IS {min_cost_product_name}')\n",
    "\n"
   ]
  },
  {
   "cell_type": "markdown",
   "id": "b959d14a",
   "metadata": {},
   "source": [
    "## What is the average transaction size?\n"
   ]
  },
  {
   "cell_type": "code",
   "execution_count": 159,
   "id": "3ac2f9ab",
   "metadata": {},
   "outputs": [
    {
     "data": {
      "image/png": "[encoded data removed]",
      "text/plain": [
       "<Figure size 640x480 with 1 Axes>"
      ]
     },
     "metadata": {},
     "output_type": "display_data"
    },
    {
     "name": "stdout",
     "output_type": "stream",
     "text": [
      "Average Transaction Size: $52.50\n"
     ]
    }
   ],
   "source": [
    "average_transaction_size = df['Total_Cost'].mean()\n",
    "\n",
    "# Create a box plot to visualize the distribution of transaction sizes\n",
    "sns.boxplot(x=df['Total_Cost'])\n",
    "plt.title('Distribution of Transaction Sizes')\n",
    "plt.xlabel('Transaction Size')\n",
    "plt.show()\n",
    "\n",
    "print(f'Average Transaction Size: ${average_transaction_size:.2f}')\n"
   ]
  },
  {
   "cell_type": "code",
   "execution_count": 209,
   "id": "cc62d3ed",
   "metadata": {},
   "outputs": [
    {
     "data": {
      "text/plain": [
       "Promotion\n",
       "BOGO (Buy One Get One)        10068\n",
       "No Promotion                   9991\n",
       "Discount on Selected Items     9941\n",
       "Name: count, dtype: int64"
      ]
     },
     "execution_count": 209,
     "metadata": {},
     "output_type": "execute_result"
    }
   ],
   "source": [
    "df['Promotion'].value_counts()"
   ]
  },
  {
   "cell_type": "markdown",
   "id": "a4749fa5",
   "metadata": {},
   "source": [
    "## Are there seasonal trends in product sales?\n"
   ]
  },
  {
   "cell_type": "code",
   "execution_count": 218,
   "id": "71b5d36e",
   "metadata": {},
   "outputs": [],
   "source": [
    "Best = df.groupby(['Product', 'Season'])['Total_Cost'].sum().sort_values(ascending=False).reset_index()"
   ]
  },
  {
   "cell_type": "code",
   "execution_count": 219,
   "id": "a9586673",
   "metadata": {},
   "outputs": [
    {
     "data": {
      "text/html": [
       "<div>\n",
       "<style scoped>\n",
       "    .dataframe tbody tr th:only-of-type {\n",
       "        vertical-align: middle;\n",
       "    }\n",
       "\n",
       "    .dataframe tbody tr th {\n",
       "        vertical-align: top;\n",
       "    }\n",
       "\n",
       "    .dataframe thead th {\n",
       "        text-align: right;\n",
       "    }\n",
       "</style>\n",
       "<table border=\"1\" class=\"dataframe\">\n",
       "  <thead>\n",
       "    <tr style=\"text-align: right;\">\n",
       "      <th></th>\n",
       "      <th>Product</th>\n",
       "      <th>Season</th>\n",
       "      <th>Total_Cost</th>\n",
       "    </tr>\n",
       "  </thead>\n",
       "  <tbody>\n",
       "    <tr>\n",
       "      <th>0</th>\n",
       "      <td>Toothpaste</td>\n",
       "      <td>Winter</td>\n",
       "      <td>2080.33</td>\n",
       "    </tr>\n",
       "    <tr>\n",
       "      <th>1</th>\n",
       "      <td>Milk</td>\n",
       "      <td>Fall</td>\n",
       "      <td>1911.88</td>\n",
       "    </tr>\n",
       "    <tr>\n",
       "      <th>2</th>\n",
       "      <td>Ketchup</td>\n",
       "      <td>Spring</td>\n",
       "      <td>1861.82</td>\n",
       "    </tr>\n",
       "    <tr>\n",
       "      <th>3</th>\n",
       "      <td>Toothpaste</td>\n",
       "      <td>Fall</td>\n",
       "      <td>1793.08</td>\n",
       "    </tr>\n",
       "    <tr>\n",
       "      <th>4</th>\n",
       "      <td>Yogurt</td>\n",
       "      <td>Spring</td>\n",
       "      <td>1642.56</td>\n",
       "    </tr>\n",
       "    <tr>\n",
       "      <th>...</th>\n",
       "      <td>...</td>\n",
       "      <td>...</td>\n",
       "      <td>...</td>\n",
       "    </tr>\n",
       "    <tr>\n",
       "      <th>23696</th>\n",
       "      <td>Pickles, Toothpaste, Diapers, Hand Sanitizer, ...</td>\n",
       "      <td>Winter</td>\n",
       "      <td>5.03</td>\n",
       "    </tr>\n",
       "    <tr>\n",
       "      <th>23697</th>\n",
       "      <td>Mustard, Trash Cans, Plant Fertilizer</td>\n",
       "      <td>Fall</td>\n",
       "      <td>5.02</td>\n",
       "    </tr>\n",
       "    <tr>\n",
       "      <th>23698</th>\n",
       "      <td>Iron, BBQ Sauce, Shrimp, Feminine Hygiene Prod...</td>\n",
       "      <td>Fall</td>\n",
       "      <td>5.01</td>\n",
       "    </tr>\n",
       "    <tr>\n",
       "      <th>23699</th>\n",
       "      <td>Soda, Iron</td>\n",
       "      <td>Winter</td>\n",
       "      <td>5.01</td>\n",
       "    </tr>\n",
       "    <tr>\n",
       "      <th>23700</th>\n",
       "      <td>Olive Oil, Coffee, Diapers</td>\n",
       "      <td>Spring</td>\n",
       "      <td>5.01</td>\n",
       "    </tr>\n",
       "  </tbody>\n",
       "</table>\n",
       "<p>23701 rows × 3 columns</p>\n",
       "</div>"
      ],
      "text/plain": [
       "                                                 Product  Season  Total_Cost\n",
       "0                                             Toothpaste  Winter     2080.33\n",
       "1                                                   Milk    Fall     1911.88\n",
       "2                                                Ketchup  Spring     1861.82\n",
       "3                                             Toothpaste    Fall     1793.08\n",
       "4                                                 Yogurt  Spring     1642.56\n",
       "...                                                  ...     ...         ...\n",
       "23696  Pickles, Toothpaste, Diapers, Hand Sanitizer, ...  Winter        5.03\n",
       "23697              Mustard, Trash Cans, Plant Fertilizer    Fall        5.02\n",
       "23698  Iron, BBQ Sauce, Shrimp, Feminine Hygiene Prod...    Fall        5.01\n",
       "23699                                         Soda, Iron  Winter        5.01\n",
       "23700                         Olive Oil, Coffee, Diapers  Spring        5.01\n",
       "\n",
       "[23701 rows x 3 columns]"
      ]
     },
     "execution_count": 219,
     "metadata": {},
     "output_type": "execute_result"
    }
   ],
   "source": [
    "Best"
   ]
  },
  {
   "cell_type": "code",
   "execution_count": null,
   "id": "774450a7",
   "metadata": {},
   "outputs": [],
   "source": [
    "\n"
   ]
  },
  {
   "cell_type": "code",
   "execution_count": null,
   "id": "3616b9dd",
   "metadata": {},
   "outputs": [],
   "source": []
  },
  {
   "cell_type": "code",
   "execution_count": null,
   "id": "4033cd3f",
   "metadata": {},
   "outputs": [],
   "source": []
  },
  {
   "cell_type": "code",
   "execution_count": null,
   "id": "30b8353f",
   "metadata": {},
   "outputs": [],
   "source": []
  },
  {
   "cell_type": "code",
   "execution_count": null,
   "id": "e9c25d89",
   "metadata": {},
   "outputs": [],
   "source": []
  }
 ],
 "metadata": {
  "kernelspec": {
   "display_name": "Python 3 (ipykernel)",
   "language": "python",
   "name": "python3"
  },
  "language_info": {
   "codemirror_mode": {
    "name": "ipython",
    "version": 3
   },
   "file_extension": ".py",
   "mimetype": "text/x-python",
   "name": "python",
   "nbconvert_exporter": "python",
   "pygments_lexer": "ipython3",
   "version": "3.11.5"
  }
 },
 "nbformat": 4,
 "nbformat_minor": 5
}
